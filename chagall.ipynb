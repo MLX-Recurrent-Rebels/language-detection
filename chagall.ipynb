{
 "cells": [
  {
   "cell_type": "code",
   "execution_count": null,
   "metadata": {},
   "outputs": [],
   "source": [
    "import pandas as pd\n",
    "import pyarrow as pa\n",
    "# Load Parquet data\n",
    "data = pd.read_parquet('path_to_downloaded_file.parquet')\n",
    "# Now, you can use the `data` DataFrame to analyse and manipulate the data.\n",
    "print(data.head())"
   ]
  }
 ],
 "metadata": {
  "kernelspec": {
   "display_name": "Python 3",
   "language": "python",
   "name": "python3"
  },
  "language_info": {
   "name": "python",
   "version": "3.11.5"
  }
 },
 "nbformat": 4,
 "nbformat_minor": 2
}
